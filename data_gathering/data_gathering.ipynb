{
 "cells": [
  {
   "cell_type": "code",
   "execution_count": null,
   "metadata": {},
   "outputs": [],
   "source": [
    "#load the example files I have\n",
    "\n",
    "import os \n",
    "import json\n",
    "samples = list()\n",
    "\n",
    "folder = \"my_examples\"\n",
    "\n",
    "for _file in os.listdir(folder):\n",
    "    filepath = os.path.join(folder, _file)\n",
    "    with open(filepath, 'rb') as f:\n",
    "        data = json.load(f)\n",
    "        _input ={\n",
    "            \"primarySourceText\": data[\"primarySourceText\"],\n",
    "            \"citation\": data[\"citation\"]\n",
    "        }\n",
    "        samples.append({\n",
    "            \"input\": _input, \n",
    "            \"output\": data\n",
    "        })\n",
    "samples[0]"
   ]
  },
  {
   "cell_type": "code",
   "execution_count": null,
   "metadata": {},
   "outputs": [],
   "source": [
    "import openai \n",
    "import asyncio\n",
    "openai.api_key = input(\"what is gpt api key\")\n",
    "model_engine = \"gpt-3.5-turbo\"\n",
    "\n",
    "general_prompt = f\"\"\"You are a game designer assistance for me who is trying to create an interactive Odyssey game. \n",
    "Given primary text, you are to evolve it into game components that I can process and feed to the user.\n",
    "Each primary text is linked to a Node. A node is made up of a primarySourceText, a citation (most provided) as well as an entranceDescription (what people see before encountering anyone, and component (a list of components).\n",
    "\n",
    "Each component represents a seperate part of the island and has the following fields: status (friendly/nuetral/hostile), fightingStrength: 0-5, intelligence: 0-5, agression: 0-5, explorerDescription: what you see right before encountering this creature, exhibitsXenia: if this creature will feed and house the character; who: what this creature is; fightingDetails: any associated fighting details; sampleBenefits: a mapper for each quality of food/fame/gold/shipQaulity to an amount of how it increases and an example of how it happens.\n",
    "\n",
    "Here are some examples - use the baseline numbers for stuff like fame here to inform your future choices:\n",
    "\"\"\" + \"\\n\\n\\n__________________________\\n\\n\\n\".join([\"input:\\n\"+str(s[\"input\"]) + \"\\noutput:\\n\" + str(s[\"output\"]) for s in samples]) + \"\\n\\n\\nRemember, the response should be JSON serializable. Use double quotes everywhere.\"\n",
    "general_prompt"
   ]
  },
  {
   "cell_type": "code",
   "execution_count": null,
   "metadata": {},
   "outputs": [],
   "source": [
    "#get input files for gpt\n",
    "_inputs = list()\n",
    "folder = \"primary_sources_for_gpt\"\n",
    "input_list = os.listdir(folder)\n",
    "for _file in input_list:\n",
    "    filepath = os.path.join(folder, _file)\n",
    "    with open(filepath, 'rb') as f:\n",
    "        d = json.load(f)\n",
    "        _inputs.append(d)\n",
    "\n",
    "\n",
    "#get completions for each of these\n",
    "completions = list()\n",
    "for specific_input in _inputs:\n",
    "    print(\"input:\\n\"+str(specific_input))\n",
    "    completion = openai.ChatCompletion.acreate(\n",
    "                model = model_engine,\n",
    "                messages = [{\"role\": \"system\", \"content\": general_prompt}] +[{\"role\": \"user\", \"content\": \"input:\\n\"+str(specific_input)}]\n",
    "                            \n",
    "            )\n",
    "    completions.append(completion)"
   ]
  },
  {
   "cell_type": "code",
   "execution_count": null,
   "metadata": {},
   "outputs": [],
   "source": [
    "completions = [await c for c in completions]\n",
    "completions"
   ]
  },
  {
   "cell_type": "code",
   "execution_count": null,
   "metadata": {},
   "outputs": [],
   "source": [
    "# json.loads(completions[0].choices[0].message.content)\n",
    "import simplejson\n",
    "output_folder = \"gpt_examples\" \n",
    "\n",
    "ignore_names = [\"charybdis_scylla.json\", \"lamus.json\", \"sirens.json\"]\n",
    "for idx, filename in enumerate(input_list):\n",
    "    try:\n",
    "        this_content = json.loads(completions[idx].choices[0].message.content)\n",
    "        print(\"good\", completions[idx].choices[0].message.content)\n",
    "    except:\n",
    "        print(\"bad\", completions[idx].choices[0].message.content)\n",
    "        continue\n",
    "        \n",
    "    with open(os.path.join(output_folder, filename), 'w') as f:\n",
    "        simplejson.dump(this_content, f, encoding='utf-8', ignore_nan=True)\n",
    "\n",
    "    "
   ]
  },
  {
   "cell_type": "code",
   "execution_count": null,
   "metadata": {},
   "outputs": [],
   "source": [
    "# !pip install simplejson"
   ]
  }
 ],
 "metadata": {
  "kernelspec": {
   "display_name": "env_reddit_data_source2",
   "language": "python",
   "name": "env_reddit_data_source2"
  },
  "language_info": {
   "codemirror_mode": {
    "name": "ipython",
    "version": 3
   },
   "file_extension": ".py",
   "mimetype": "text/x-python",
   "name": "python",
   "nbconvert_exporter": "python",
   "pygments_lexer": "ipython3",
   "version": "3.9.13"
  }
 },
 "nbformat": 4,
 "nbformat_minor": 2
}
